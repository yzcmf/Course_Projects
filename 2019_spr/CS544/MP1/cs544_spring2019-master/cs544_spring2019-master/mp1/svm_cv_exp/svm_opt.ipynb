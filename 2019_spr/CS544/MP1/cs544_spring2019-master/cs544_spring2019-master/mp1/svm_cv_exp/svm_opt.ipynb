{
 "cells": [
  {
   "cell_type": "code",
   "execution_count": 8,
   "metadata": {},
   "outputs": [
    {
     "name": "stdout",
     "output_type": "stream",
     "text": [
      "     SepalLengthCm  SepalWidthCm  PetalLengthCm  PetalWidthCm         Species\n",
      "0              5.1           3.5            1.4           0.2     Iris-setosa\n",
      "1              4.9           3.0            1.4           0.2     Iris-setosa\n",
      "2              4.7           3.2            1.3           0.2     Iris-setosa\n",
      "3              4.6           3.1            1.5           0.2     Iris-setosa\n",
      "4              5.0           3.6            1.4           0.2     Iris-setosa\n",
      "5              5.4           3.9            1.7           0.4     Iris-setosa\n",
      "6              4.6           3.4            1.4           0.3     Iris-setosa\n",
      "7              5.0           3.4            1.5           0.2     Iris-setosa\n",
      "8              4.4           2.9            1.4           0.2     Iris-setosa\n",
      "9              4.9           3.1            1.5           0.1     Iris-setosa\n",
      "10             5.4           3.7            1.5           0.2     Iris-setosa\n",
      "11             4.8           3.4            1.6           0.2     Iris-setosa\n",
      "12             4.8           3.0            1.4           0.1     Iris-setosa\n",
      "13             4.3           3.0            1.1           0.1     Iris-setosa\n",
      "14             5.8           4.0            1.2           0.2     Iris-setosa\n",
      "15             5.7           4.4            1.5           0.4     Iris-setosa\n",
      "16             5.4           3.9            1.3           0.4     Iris-setosa\n",
      "17             5.1           3.5            1.4           0.3     Iris-setosa\n",
      "18             5.7           3.8            1.7           0.3     Iris-setosa\n",
      "19             5.1           3.8            1.5           0.3     Iris-setosa\n",
      "20             5.4           3.4            1.7           0.2     Iris-setosa\n",
      "21             5.1           3.7            1.5           0.4     Iris-setosa\n",
      "22             4.6           3.6            1.0           0.2     Iris-setosa\n",
      "23             5.1           3.3            1.7           0.5     Iris-setosa\n",
      "24             4.8           3.4            1.9           0.2     Iris-setosa\n",
      "25             5.0           3.0            1.6           0.2     Iris-setosa\n",
      "26             5.0           3.4            1.6           0.4     Iris-setosa\n",
      "27             5.2           3.5            1.5           0.2     Iris-setosa\n",
      "28             5.2           3.4            1.4           0.2     Iris-setosa\n",
      "29             4.7           3.2            1.6           0.2     Iris-setosa\n",
      "..             ...           ...            ...           ...             ...\n",
      "120            6.9           3.2            5.7           2.3  Iris-virginica\n",
      "121            5.6           2.8            4.9           2.0  Iris-virginica\n",
      "122            7.7           2.8            6.7           2.0  Iris-virginica\n",
      "123            6.3           2.7            4.9           1.8  Iris-virginica\n",
      "124            6.7           3.3            5.7           2.1  Iris-virginica\n",
      "125            7.2           3.2            6.0           1.8  Iris-virginica\n",
      "126            6.2           2.8            4.8           1.8  Iris-virginica\n",
      "127            6.1           3.0            4.9           1.8  Iris-virginica\n",
      "128            6.4           2.8            5.6           2.1  Iris-virginica\n",
      "129            7.2           3.0            5.8           1.6  Iris-virginica\n",
      "130            7.4           2.8            6.1           1.9  Iris-virginica\n",
      "131            7.9           3.8            6.4           2.0  Iris-virginica\n",
      "132            6.4           2.8            5.6           2.2  Iris-virginica\n",
      "133            6.3           2.8            5.1           1.5  Iris-virginica\n",
      "134            6.1           2.6            5.6           1.4  Iris-virginica\n",
      "135            7.7           3.0            6.1           2.3  Iris-virginica\n",
      "136            6.3           3.4            5.6           2.4  Iris-virginica\n",
      "137            6.4           3.1            5.5           1.8  Iris-virginica\n",
      "138            6.0           3.0            4.8           1.8  Iris-virginica\n",
      "139            6.9           3.1            5.4           2.1  Iris-virginica\n",
      "140            6.7           3.1            5.6           2.4  Iris-virginica\n",
      "141            6.9           3.1            5.1           2.3  Iris-virginica\n",
      "142            5.8           2.7            5.1           1.9  Iris-virginica\n",
      "143            6.8           3.2            5.9           2.3  Iris-virginica\n",
      "144            6.7           3.3            5.7           2.5  Iris-virginica\n",
      "145            6.7           3.0            5.2           2.3  Iris-virginica\n",
      "146            6.3           2.5            5.0           1.9  Iris-virginica\n",
      "147            6.5           3.0            5.2           2.0  Iris-virginica\n",
      "148            6.2           3.4            5.4           2.3  Iris-virginica\n",
      "149            5.9           3.0            5.1           1.8  Iris-virginica\n",
      "\n",
      "[150 rows x 5 columns]\n"
     ]
    }
   ],
   "source": [
    "import pandas as pd\n",
    "df = pd.read_csv('Iris_dataset/iris.csv')\n",
    "print(df)\n",
    "df = df.drop(['Id'],axis=1)\n",
    "print(df)\n",
    "target = df['Species']\n",
    "print(target)\n",
    "s = set()\n",
    "for val in target:\n",
    "    s.add(val)\n",
    "s = list(s)\n",
    "rows = list(range(100,150))\n",
    "df = df.drop(df.index[rows])\n"
   ]
  },
  {
   "cell_type": "code",
   "execution_count": 2,
   "metadata": {},
   "outputs": [
    {
     "data": {
      "text/plain": [
       "<Figure size 800x600 with 1 Axes>"
      ]
     },
     "metadata": {},
     "output_type": "display_data"
    }
   ],
   "source": [
    "import matplotlib.pyplot as plt\n",
    "\n",
    "x = df['SepalLengthCm']\n",
    "y = df['PetalLengthCm']\n",
    "\n",
    "setosa_x = x[:50]\n",
    "setosa_y = y[:50]\n",
    "\n",
    "versicolor_x = x[50:]\n",
    "versicolor_y = y[50:]\n",
    "\n",
    "plt.figure(figsize=(8,6))\n",
    "plt.scatter(setosa_x,setosa_y,marker='+',color='green')\n",
    "plt.scatter(versicolor_x,versicolor_y,marker='_',color='red')\n",
    "plt.show()"
   ]
  },
  {
   "cell_type": "code",
   "execution_count": 3,
   "metadata": {},
   "outputs": [
    {
     "name": "stderr",
     "output_type": "stream",
     "text": [
      "/Users/user/anaconda3/lib/python3.7/site-packages/sklearn/model_selection/_split.py:2179: FutureWarning: From version 0.21, test_size will always complement train_size unless both are specified.\n",
      "  FutureWarning)\n"
     ]
    }
   ],
   "source": [
    "from sklearn.utils import shuffle\n",
    "from sklearn.model_selection import train_test_split\n",
    "# from sklearn.cross_validation import train_test_split\n",
    "import numpy as np\n",
    "## Drop rest of the features and extract the target values\n",
    "df = df.drop(['SepalWidthCm','PetalWidthCm'],axis=1)\n",
    "Y = []\n",
    "target = df['Species']\n",
    "for val in target:\n",
    "    if(val == 'Iris-setosa'):\n",
    "        Y.append(-1)\n",
    "    else:\n",
    "        Y.append(1)\n",
    "df = df.drop(['Species'],axis=1)\n",
    "X = df.values.tolist()\n",
    "## Shuffle and split the data into training and test set\n",
    "X, Y = shuffle(X,Y)\n",
    "x_train = []\n",
    "y_train = []\n",
    "x_test = []\n",
    "y_test = []\n",
    "\n",
    "x_train, x_test, y_train, y_test = train_test_split(X, Y, train_size=0.9)\n",
    "\n",
    "x_train = np.array(x_train)\n",
    "y_train = np.array(y_train)\n",
    "x_test = np.array(x_test)\n",
    "y_test = np.array(y_test)\n",
    "\n",
    "y_train = y_train.reshape(90,1)\n",
    "y_test = y_test.reshape(10,1)"
   ]
  },
  {
   "cell_type": "code",
   "execution_count": 4,
   "metadata": {},
   "outputs": [],
   "source": [
    "## Support Vector Machine \n",
    "import numpy as np\n",
    "\n",
    "train_f1 = x_train[:,0]\n",
    "train_f2 = x_train[:,1]\n",
    "\n",
    "train_f1 = train_f1.reshape(90,1)\n",
    "train_f2 = train_f2.reshape(90,1)\n",
    "\n",
    "w1 = np.zeros((90,1))\n",
    "w2 = np.zeros((90,1))\n",
    "\n",
    "epochs = 1\n",
    "alpha = 0.0001\n",
    "\n",
    "while(epochs < 10000):\n",
    "    y = w1 * train_f1 + w2 * train_f2\n",
    "    prod = y * y_train\n",
    "#     print(epochs)\n",
    "    count = 0\n",
    "    for val in prod:\n",
    "        if(val >= 1):\n",
    "            cost = 0\n",
    "            w1 = w1 - alpha * (2 * 1/epochs * w1)\n",
    "            w2 = w2 - alpha * (2 * 1/epochs * w2)\n",
    "            \n",
    "        else:\n",
    "            cost = 1 - val \n",
    "            w1 = w1 + alpha * (train_f1[count] * y_train[count] - 2 * 1/epochs * w1)\n",
    "            w2 = w2 + alpha * (train_f2[count] * y_train[count] - 2 * 1/epochs * w2)\n",
    "        count += 1\n",
    "    epochs += 1"
   ]
  },
  {
   "cell_type": "code",
   "execution_count": 5,
   "metadata": {},
   "outputs": [
    {
     "name": "stdout",
     "output_type": "stream",
     "text": [
      "1.0\n"
     ]
    }
   ],
   "source": [
    "from sklearn.metrics import accuracy_score\n",
    "\n",
    "## Clip the weights \n",
    "index = list(range(10,90))\n",
    "w1 = np.delete(w1,index)\n",
    "w2 = np.delete(w2,index)\n",
    "\n",
    "w1 = w1.reshape(10,1)\n",
    "w2 = w2.reshape(10,1)\n",
    "## Extract the test data features \n",
    "test_f1 = x_test[:,0]\n",
    "test_f2 = x_test[:,1]\n",
    "\n",
    "test_f1 = test_f1.reshape(10,1)\n",
    "test_f2 = test_f2.reshape(10,1)\n",
    "## Predict\n",
    "y_pred = w1 * test_f1 + w2 * test_f2\n",
    "predictions = []\n",
    "for val in y_pred:\n",
    "    if(val > 1):\n",
    "        predictions.append(1)\n",
    "    else:\n",
    "        predictions.append(-1)\n",
    "\n",
    "print(accuracy_score(y_test,predictions))"
   ]
  },
  {
   "cell_type": "code",
   "execution_count": null,
   "metadata": {},
   "outputs": [],
   "source": []
  }
 ],
 "metadata": {
  "kernelspec": {
   "display_name": "Python 3",
   "language": "python",
   "name": "python3"
  },
  "language_info": {
   "codemirror_mode": {
    "name": "ipython",
    "version": 3
   },
   "file_extension": ".py",
   "mimetype": "text/x-python",
   "name": "python",
   "nbconvert_exporter": "python",
   "pygments_lexer": "ipython3",
   "version": "3.7.1"
  }
 },
 "nbformat": 4,
 "nbformat_minor": 2
}
