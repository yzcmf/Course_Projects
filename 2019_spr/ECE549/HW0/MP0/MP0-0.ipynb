{
 "cells": [
  {
   "cell_type": "heading",
   "metadata": {},
   "level": 1,
   "source": [
    "# MP0 : Image Demosaicing\n",
    "\n",
    "Welcome to CS 543! This assignment is a warm-up assignment to get you back up working from the winter break! We will try to provide you an iPython Notebook (like this) for all the future assignments! The notebook will provide you some further instructions(implementation related mainly), in addition to the ones provided on class webpage."
   ]
  },
  {
   "cell_type": "heading",
   "metadata": {},
   "level": 1,
   "source": [
    "### Import statements\n",
    "\n",
    "The following cell is only for import statements. You can use any of the 3 : cv2, matplotlib or skimage for image i/o and other functions. We will provide you the names of the relevant functions for each module. __{For convenience provided at the end of the class assignment webpage}__"
   ]
  },
  {
   "cell_type": "code",
   "execution_count": null,
   "metadata": {},
   "outputs": [],
   "source": [
    "import numpy as np\n",
    "import cv2\n",
    "import matplotlib.image as mpimg\n",
    "import matplotlib.pyplot as plt\n",
    "import skimage\n",
    "import scipy\n",
    "%matplotlib inline"
   ]
  },
  {
   "cell_type": "markdown",
   "metadata": {},
   "source": [
    "### Reading the Mosaic Image"
   ]
  },
  {
   "cell_type": "code",
   "execution_count": null,
   "metadata": {},
   "outputs": [],
   "source": [
    "IMG_DIR = 'images/'\n",
    "IMG_NAME = 'crayons.bmp'\n",
    "mosaic_img = read_image(IMG_NAME)# YOUR CODE HERE"
   ]
  },
  {
   "cell_type": "code",
   "execution_count": null,
   "metadata": {},
   "outputs": [],
   "source": [
    "def read_image(IMG_NAME):\n",
    "    # YOUR CODE HERE\n",
    "    return img"
   ]
  },
  {
   "cell_type": "code",
   "execution_count": null,
   "metadata": {},
   "outputs": [],
   "source": [
    "# For a sanity check, display your image here"
   ]
  },
  {
   "cell_type": "markdown",
   "metadata": {},
   "source": [
    "### Linear Interpolation"
   ]
  },
  {
   "cell_type": "code",
   "execution_count": null,
   "metadata": {},
   "outputs": [],
   "source": [
    "### HINT : You might want to use filters"
   ]
  },
  {
   "cell_type": "code",
   "execution_count": null,
   "metadata": {},
   "outputs": [],
   "source": [
    "### HINT : To use filters you might want to write your kernels"
   ]
  },
  {
   "cell_type": "code",
   "execution_count": null,
   "metadata": {},
   "outputs": [],
   "source": [
    "### HINT : For writing your kernels you might want to see the RGB Pattern provided on the website"
   ]
  },
  {
   "cell_type": "code",
   "execution_count": null,
   "metadata": {},
   "outputs": [],
   "source": [
    "### HINT : To improve your kernels, you might want to use the squared difference \n",
    "###        between your solution image and the original image"
   ]
  },
  {
   "cell_type": "code",
   "execution_count": null,
   "metadata": {},
   "outputs": [],
   "source": [
    "def get_solution_image(mosaic_img):\n",
    "    '''\n",
    "    This function should return the soln image.\n",
    "    Feel free to write helper functions in the above cells\n",
    "    as well as change the parameters of this function.\n",
    "    '''\n",
    "    mosaic_shape = np.shape(mosaic_img)\n",
    "    soln_image = np.zeros((mosaic_shape[0], mosaic_shape[1], 3))\n",
    "    ### YOUR CODE HERE ###\n",
    "    return soln_image"
   ]
  },
  {
   "cell_type": "code",
   "execution_count": null,
   "metadata": {},
   "outputs": [],
   "source": [
    "def compute_errors(soln_image, original_image):\n",
    "    '''\n",
    "    Compute the Average and Maximum per-pixel error\n",
    "    for the image.\n",
    "    \n",
    "    Also generate the map of pixel differences\n",
    "    to visualize where the mistakes are made\n",
    "    '''\n",
    "    return pp_err, max_err"
   ]
  },
  {
   "cell_type": "markdown",
   "metadata": {},
   "source": [
    "We provide you with 3 images to test if your solution works. Once it works, you should generate the solution for test image provided to you."
   ]
  },
  {
   "cell_type": "code",
   "execution_count": null,
   "metadata": {},
   "outputs": [],
   "source": [
    "mosaic_img = read_image('crayons.bmp')\n",
    "soln_image = get_solution_image(mosaic_img)\n",
    "original_image = read_image('crayons.jpg')\n",
    "# For sanity check display your solution image here\n",
    "### YOUR CODE"
   ]
  },
  {
   "cell_type": "code",
   "execution_count": null,
   "metadata": {},
   "outputs": [],
   "source": [
    "pp_err, max_err = compute_errors(soln_image, original_image)\n",
    "print(\"The average per-pixel error for crayons is: \"+str(pp_err))\n",
    "print(\"The maximum per-pixel error for crayons is: \"+str(max_err))"
   ]
  },
  {
   "cell_type": "code",
   "execution_count": null,
   "metadata": {},
   "outputs": [],
   "source": [
    "mosaic_img = read_image('iceberg.bmp')\n",
    "soln_image = get_solution_image(mosaic_img)\n",
    "original_image = read_image('iceberg.jpg')\n",
    "# For sanity check display your solution image here\n",
    "### YOUR CODE"
   ]
  },
  {
   "cell_type": "code",
   "execution_count": null,
   "metadata": {},
   "outputs": [],
   "source": [
    "pp_err, max_err = compute_errors(soln_image, original_image)\n",
    "print(\"The average per-pixel error for iceberg is: \"+str(pp_err))\n",
    "print(\"The maximum per-pixel error for iceberg is: \"+str(max_err))"
   ]
  },
  {
   "cell_type": "code",
   "execution_count": null,
   "metadata": {},
   "outputs": [],
   "source": [
    "mosaic_img = read_image('tony.bmp')\n",
    "soln_image = get_solution_image(mosaic_img)\n",
    "original_image = read_image('tony.jpg')\n",
    "# For sanity check display your solution image here\n",
    "### YOUR CODE"
   ]
  },
  {
   "cell_type": "code",
   "execution_count": null,
   "metadata": {},
   "outputs": [],
   "source": [
    "pp_err, max_err = compute_errors(soln_image, original_image)\n",
    "print(\"The average per-pixel error for tony is: \"+str(pp_err))\n",
    "print(\"The maximum per-pixel error for tony is: \"+str(max_err))"
   ]
  },
  {
   "cell_type": "code",
   "execution_count": null,
   "metadata": {},
   "outputs": [],
   "source": [
    "mosaic_img = read_image('hope.bmp')\n",
    "soln_image = get_solution_image(mosaic_img)\n",
    "# Generate your solution image here and show it "
   ]
  },
  {
   "cell_type": "markdown",
   "metadata": {},
   "source": [
    "### Freeman's Method\n",
    "\n",
    "For details of the freeman's method refer to the class assignment webpage.\n",
    "\n",
    "__MAKE SURE YOU FINISH LINEAR INTERPOLATION BEFORE STARTING THIS PART!!!__"
   ]
  },
  {
   "cell_type": "code",
   "execution_count": null,
   "metadata": {},
   "outputs": [],
   "source": [
    "def get_freeman_solution_image(mosaic_img):\n",
    "    '''\n",
    "    This function should return the freeman soln image.\n",
    "    Feel free to write helper functions in the above cells\n",
    "    as well as change the parameters of this function.\n",
    "    \n",
    "    HINT : Use the above get_solution_image function.\n",
    "    '''\n",
    "    ### YOUR CODE HERE ###\n",
    "    return freeman_soln_image"
   ]
  },
  {
   "cell_type": "code",
   "execution_count": null,
   "metadata": {},
   "outputs": [],
   "source": [
    "mosaic_img = read_image('tony.bmp')\n",
    "soln_image = get_freeman_solution_image(mosaic_img)\n",
    "original_image = read_image('tony.jpg')\n",
    "# For sanity check display your solution image here\n",
    "### YOUR CODE"
   ]
  },
  {
   "cell_type": "code",
   "execution_count": null,
   "metadata": {},
   "outputs": [],
   "source": [
    "pp_err, max_err = compute_errors(soln_image, original_image)\n",
    "print(\"The average per-pixel error for tony is: \"+str(pp_err))\n",
    "print(\"The maximum per-pixel error for tony is: \"+str(max_err))"
   ]
  },
  {
   "cell_type": "code",
   "execution_count": null,
   "metadata": {},
   "outputs": [],
   "source": [
    "### Feel free to play around with other images for Freeman's method above ###"
   ]
  },
  {
   "cell_type": "code",
   "execution_count": null,
   "metadata": {},
   "outputs": [],
   "source": [
    "mosaic_img = read_image('hope.bmp')\n",
    "soln_image = get_freeman_solution_image(mosaic_img)\n",
    "# Generate your solution image here and show it"
   ]
  },
  {
   "cell_type": "markdown",
   "metadata": {},
   "source": [
    "### Mosaicing an Image"
   ]
  },
  {
   "cell_type": "markdown",
   "metadata": {},
   "source": [
    "Now lets take a step backwards and mosaic an image."
   ]
  },
  {
   "cell_type": "code",
   "execution_count": 1,
   "metadata": {},
   "outputs": [],
   "source": [
    "def get_mosaic_image(original_image):\n",
    "    '''\n",
    "    Generate the mosaic image using the Bayer Pattern.\n",
    "    '''\n",
    "    return mosaic_img"
   ]
  },
  {
   "cell_type": "code",
   "execution_count": 2,
   "metadata": {},
   "outputs": [],
   "source": [
    "### YOU CAN USE ANY OF THE PROVIDED IMAGES TO CHECK YOUR get_mosaic_function"
   ]
  },
  {
   "cell_type": "markdown",
   "metadata": {},
   "source": [
    "Use any 3 images you find interesting and generate their mosaics as well as their demosaics. Try to find images that break your demosaicing function."
   ]
  },
  {
   "cell_type": "code",
   "execution_count": 3,
   "metadata": {},
   "outputs": [],
   "source": [
    "### YOUR CODE HERE ###"
   ]
  },
  {
   "cell_type": "markdown",
   "metadata": {},
   "source": [
    "### Bonus Points"
   ]
  },
  {
   "cell_type": "code",
   "execution_count": 4,
   "metadata": {},
   "outputs": [],
   "source": [
    "### YOUR CODE HERE ###\n",
    "### YOU ARE ON YOUR OWN :) ####"
   ]
  }
 ],
 "metadata": {
  "kernelspec": {
   "display_name": "Python 3",
   "language": "python",
   "name": "python3"
  },
  "language_info": {
   "codemirror_mode": {
    "name": "ipython",
    "version": 3
   },
   "file_extension": ".py",
   "mimetype": "text/x-python",
   "name": "python",
   "nbconvert_exporter": "python",
   "pygments_lexer": "ipython3",
   "version": "3.7.1"
  }
 },
 "nbformat": 4,
 "nbformat_minor": 2
}
