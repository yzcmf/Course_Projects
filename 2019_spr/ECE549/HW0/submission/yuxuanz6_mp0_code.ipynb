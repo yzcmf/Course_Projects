{
 "cells": [
  {
   "cell_type": "code",
   "execution_count": 1,
   "metadata": {},
   "outputs": [],
   "source": [
    "import numpy as np\n",
    "import cv2\n",
    "import matplotlib.image as mpimg\n",
    "import matplotlib.pyplot as plt\n",
    "import skimage\n",
    "import scipy\n",
    "import imghdr\n",
    "%matplotlib inline\n"
   ]
  },
  {
   "cell_type": "code",
   "execution_count": 2,
   "metadata": {},
   "outputs": [],
   "source": [
    "def read_image(IMG_NAME):\n",
    "    # YOUR CODE HERE\n",
    "    IMG_DIR = 'images/'\n",
    "    if imghdr.what(IMG_DIR + IMG_NAME) == 'bmp':\n",
    "      img = cv2.imread(IMG_DIR + IMG_NAME,0)\n",
    "    else :\n",
    "      img = cv2.imread(IMG_DIR + IMG_NAME,1)\n",
    "    return img\n"
   ]
  },
  {
   "cell_type": "code",
   "execution_count": 3,
   "metadata": {},
   "outputs": [],
   "source": [
    "def get_solution_image(mosaic_img):\n",
    "    '''\n",
    "    This function should return the soln image.\n",
    "    Feel free to write helper functions in the above cells\n",
    "    as well as change the parameters of this function.\n",
    "    '''\n",
    "    ### YOUR CODE HERE ###\n",
    "    mosaic_shape = np.shape(mosaic_img)\n",
    "#     print(mosaic_shape[0],mosaic_shape[1])\n",
    "    soln_image = np.zeros((mosaic_shape[0], mosaic_shape[1], 3))\n",
    "    blue = soln_image[:,:,0]\n",
    "    green = soln_image[:,:,1]\n",
    "    red = soln_image[:,:,2]    \n",
    "\n",
    "    mosaic_img = mosaic_img.astype(np.float64)\n",
    "    blue = mosaic_img.copy()\n",
    "    blue[::2,:] = 0\n",
    "    blue[:,::2] = 0\n",
    "#     print(\"Blue:\\n\",blue)\n",
    "    green = mosaic_img.copy()\n",
    "    green[::2,::2] = 0\n",
    "    green[1::2,1::2] = 0\n",
    "#     print(\"Green:\\n\",green)\n",
    "    red = mosaic_img.copy()\n",
    "    red[1::2,:] = 0\n",
    "    red[:,1::2] = 0\n",
    "#     print(\"Red:\\n\",red)\n",
    "    \n",
    "    from scipy import ndimage    \n",
    "    k1 = np.array([[0.25,0.5,0.25],[0.5,1,0.5],[0.25,0.5,0.25]])\n",
    "    r = ndimage.convolve(red, k1, mode='mirror')\n",
    "    b = ndimage.convolve(blue, k1, mode='mirror')\n",
    "    k2 = np.array([[0,0.25,0],[0.25,1,0.25],[0,0.25,0]])\n",
    "    g = ndimage.convolve(green, k2, mode='constant', cval=0.0)\n",
    "#     g = ndimage.convolve(green, k2, mode='mirror')\n",
    "\n",
    "    soln_image[:,:,0] = r\n",
    "    soln_image[:,:,1] = g\n",
    "    soln_image[:,:,2] = b\n",
    "    np.clip(soln_image, 0, 255)\n",
    "#     print(soln_image) \n",
    "    soln_image = soln_image.astype(np.uint8)\n",
    "    return soln_image"
   ]
  },
  {
   "cell_type": "code",
   "execution_count": 4,
   "metadata": {},
   "outputs": [
    {
     "ename": "FileNotFoundError",
     "evalue": "[Errno 2] No such file or directory: 'images/crayons.bmp'",
     "output_type": "error",
     "traceback": [
      "\u001b[0;31m---------------------------------------------------------------------------\u001b[0m",
      "\u001b[0;31mFileNotFoundError\u001b[0m                         Traceback (most recent call last)",
      "\u001b[0;32m<ipython-input-4-ee1f5ea17633>\u001b[0m in \u001b[0;36m<module>\u001b[0;34m\u001b[0m\n\u001b[1;32m      1\u001b[0m \u001b[0mIMG_NAME\u001b[0m \u001b[0;34m=\u001b[0m \u001b[0;34m'crayons.bmp'\u001b[0m\u001b[0;34m\u001b[0m\u001b[0;34m\u001b[0m\u001b[0m\n\u001b[0;32m----> 2\u001b[0;31m \u001b[0mmosaic_img\u001b[0m \u001b[0;34m=\u001b[0m \u001b[0mread_image\u001b[0m\u001b[0;34m(\u001b[0m\u001b[0mIMG_NAME\u001b[0m\u001b[0;34m)\u001b[0m\u001b[0;34m\u001b[0m\u001b[0;34m\u001b[0m\u001b[0m\n\u001b[0m\u001b[1;32m      3\u001b[0m \u001b[0;31m# YOUR CODE HERE\u001b[0m\u001b[0;34m\u001b[0m\u001b[0;34m\u001b[0m\u001b[0;34m\u001b[0m\u001b[0m\n\u001b[1;32m      4\u001b[0m \u001b[0msoln_image\u001b[0m \u001b[0;34m=\u001b[0m \u001b[0mget_solution_image\u001b[0m\u001b[0;34m(\u001b[0m\u001b[0mmosaic_img\u001b[0m\u001b[0;34m)\u001b[0m\u001b[0;34m\u001b[0m\u001b[0;34m\u001b[0m\u001b[0m\n\u001b[1;32m      5\u001b[0m \u001b[0mplt\u001b[0m\u001b[0;34m.\u001b[0m\u001b[0mimshow\u001b[0m\u001b[0;34m(\u001b[0m\u001b[0msoln_image\u001b[0m\u001b[0;34m)\u001b[0m\u001b[0;34m\u001b[0m\u001b[0;34m\u001b[0m\u001b[0m\n",
      "\u001b[0;32m<ipython-input-2-d7c89a9e3855>\u001b[0m in \u001b[0;36mread_image\u001b[0;34m(IMG_NAME)\u001b[0m\n\u001b[1;32m      2\u001b[0m     \u001b[0;31m# YOUR CODE HERE\u001b[0m\u001b[0;34m\u001b[0m\u001b[0;34m\u001b[0m\u001b[0;34m\u001b[0m\u001b[0m\n\u001b[1;32m      3\u001b[0m     \u001b[0mIMG_DIR\u001b[0m \u001b[0;34m=\u001b[0m \u001b[0;34m'images/'\u001b[0m\u001b[0;34m\u001b[0m\u001b[0;34m\u001b[0m\u001b[0m\n\u001b[0;32m----> 4\u001b[0;31m     \u001b[0;32mif\u001b[0m \u001b[0mimghdr\u001b[0m\u001b[0;34m.\u001b[0m\u001b[0mwhat\u001b[0m\u001b[0;34m(\u001b[0m\u001b[0mIMG_DIR\u001b[0m \u001b[0;34m+\u001b[0m \u001b[0mIMG_NAME\u001b[0m\u001b[0;34m)\u001b[0m \u001b[0;34m==\u001b[0m \u001b[0;34m'bmp'\u001b[0m\u001b[0;34m:\u001b[0m\u001b[0;34m\u001b[0m\u001b[0;34m\u001b[0m\u001b[0m\n\u001b[0m\u001b[1;32m      5\u001b[0m       \u001b[0mimg\u001b[0m \u001b[0;34m=\u001b[0m \u001b[0mcv2\u001b[0m\u001b[0;34m.\u001b[0m\u001b[0mimread\u001b[0m\u001b[0;34m(\u001b[0m\u001b[0mIMG_DIR\u001b[0m \u001b[0;34m+\u001b[0m \u001b[0mIMG_NAME\u001b[0m\u001b[0;34m,\u001b[0m\u001b[0;36m0\u001b[0m\u001b[0;34m)\u001b[0m\u001b[0;34m\u001b[0m\u001b[0;34m\u001b[0m\u001b[0m\n\u001b[1;32m      6\u001b[0m     \u001b[0;32melse\u001b[0m \u001b[0;34m:\u001b[0m\u001b[0;34m\u001b[0m\u001b[0;34m\u001b[0m\u001b[0m\n",
      "\u001b[0;32m~/anaconda3/lib/python3.7/imghdr.py\u001b[0m in \u001b[0;36mwhat\u001b[0;34m(file, h)\u001b[0m\n\u001b[1;32m     14\u001b[0m         \u001b[0;32mif\u001b[0m \u001b[0mh\u001b[0m \u001b[0;32mis\u001b[0m \u001b[0;32mNone\u001b[0m\u001b[0;34m:\u001b[0m\u001b[0;34m\u001b[0m\u001b[0;34m\u001b[0m\u001b[0m\n\u001b[1;32m     15\u001b[0m             \u001b[0;32mif\u001b[0m \u001b[0misinstance\u001b[0m\u001b[0;34m(\u001b[0m\u001b[0mfile\u001b[0m\u001b[0;34m,\u001b[0m \u001b[0;34m(\u001b[0m\u001b[0mstr\u001b[0m\u001b[0;34m,\u001b[0m \u001b[0mPathLike\u001b[0m\u001b[0;34m)\u001b[0m\u001b[0;34m)\u001b[0m\u001b[0;34m:\u001b[0m\u001b[0;34m\u001b[0m\u001b[0;34m\u001b[0m\u001b[0m\n\u001b[0;32m---> 16\u001b[0;31m                 \u001b[0mf\u001b[0m \u001b[0;34m=\u001b[0m \u001b[0mopen\u001b[0m\u001b[0;34m(\u001b[0m\u001b[0mfile\u001b[0m\u001b[0;34m,\u001b[0m \u001b[0;34m'rb'\u001b[0m\u001b[0;34m)\u001b[0m\u001b[0;34m\u001b[0m\u001b[0;34m\u001b[0m\u001b[0m\n\u001b[0m\u001b[1;32m     17\u001b[0m                 \u001b[0mh\u001b[0m \u001b[0;34m=\u001b[0m \u001b[0mf\u001b[0m\u001b[0;34m.\u001b[0m\u001b[0mread\u001b[0m\u001b[0;34m(\u001b[0m\u001b[0;36m32\u001b[0m\u001b[0;34m)\u001b[0m\u001b[0;34m\u001b[0m\u001b[0;34m\u001b[0m\u001b[0m\n\u001b[1;32m     18\u001b[0m             \u001b[0;32melse\u001b[0m\u001b[0;34m:\u001b[0m\u001b[0;34m\u001b[0m\u001b[0;34m\u001b[0m\u001b[0m\n",
      "\u001b[0;31mFileNotFoundError\u001b[0m: [Errno 2] No such file or directory: 'images/crayons.bmp'"
     ]
    }
   ],
   "source": [
    "IMG_NAME = 'crayons.bmp'\n",
    "mosaic_img = read_image(IMG_NAME)\n",
    "# YOUR CODE HERE\n",
    "soln_image = get_solution_image(mosaic_img)\n",
    "plt.imshow(soln_image)\n",
    "plt.xticks([]), plt.yticks([])  # to hide tick values on X and Y axis\n",
    "plt.show()"
   ]
  },
  {
   "cell_type": "code",
   "execution_count": null,
   "metadata": {},
   "outputs": [],
   "source": [
    "def compute_errors(soln_image, original_image):\n",
    "    '''\n",
    "    Compute the Average and Maximum per-pixel error\n",
    "    for the image.\n",
    "    \n",
    "    Also generate the map of pixel differences\n",
    "    to visualize where the mistakes are made\n",
    "    '''\n",
    "#     A = np.zeros((soln_image.shape[0], soln_image.shape[1], 3))\n",
    "#     A = soln_image.astype(np.float64)\n",
    "#     B = np.zeros((soln_image.shape[0], soln_image.shape[1], 3))\n",
    "#     B = original_image.astype(np.float64)\n",
    "#     target = A[:,:,:3] - B[:,:,:3]\n",
    "#     squares = (A[:,:,:3] - B[:,:,:3]) ** 2\n",
    "#     pp_err = np.sum(squares) / (3*600*480)\n",
    "#     max_err = max(abs(np.max(target)),abs(np.min(target)))   \n",
    "    \n",
    "    error = np.absolute(original_image-soln_image)\n",
    "    pp_err = np.mean(error)\n",
    "    max_err = np.std(error)\n",
    "    # print(target,pp_err,max_err)\n",
    "    # Show the error image\n",
    "    error_map = (error ** 2).sum(axis=2)\n",
    "    plt.imshow(error_map / max_err, cmap='gray')\n",
    "    plt.show()\n",
    "    return pp_err, max_err"
   ]
  },
  {
   "cell_type": "code",
   "execution_count": null,
   "metadata": {},
   "outputs": [],
   "source": [
    "mosaic_img = read_image('crayons.bmp')\n",
    "plt.imshow(mosaic_img, cmap = 'gray')\n",
    "plt.xticks([]), plt.yticks([])  # to hide tick values on X and Y axis\n",
    "plt.show()\n",
    "original_image = read_image('crayons.jpg')\n",
    "plt.imshow(original_image[:,:,::-1])\n",
    "plt.xticks([]), plt.yticks([])  # to hide tick values on X and Y axis\n",
    "plt.show()\n",
    "# For sanity check display your solution image here\n",
    "### YOUR CODE\n",
    "soln_image = get_solution_image(mosaic_img)\n",
    "plt.imshow(soln_image)\n",
    "plt.xticks([]), plt.yticks([])  # to hide tick values on X and Y axis\n",
    "plt.show()"
   ]
  },
  {
   "cell_type": "code",
   "execution_count": null,
   "metadata": {},
   "outputs": [],
   "source": [
    "pp_err, max_err = compute_errors(soln_image, original_image)\n",
    "print(\"The average per-pixel error for crayons is: \"+str(pp_err))\n",
    "print(\"The maximum per-pixel error for crayons is: \"+str(max_err))"
   ]
  },
  {
   "cell_type": "code",
   "execution_count": null,
   "metadata": {},
   "outputs": [],
   "source": [
    "mosaic_img = read_image('iceberg.bmp')\n",
    "plt.imshow(mosaic_img, cmap = 'gray')\n",
    "plt.xticks([]), plt.yticks([])  # to hide tick values on X and Y axis\n",
    "plt.show()\n",
    "original_image = read_image('iceberg.jpg')\n",
    "plt.imshow(original_image[:,:,::-1])\n",
    "plt.xticks([]), plt.yticks([])  # to hide tick values on X and Y axis\n",
    "plt.show()\n",
    "# For sanity check display your solution image here\n",
    "### YOUR CODE\n",
    "soln_image = get_solution_image(mosaic_img)\n",
    "plt.imshow(soln_image)\n",
    "plt.xticks([]), plt.yticks([])  # to hide tick values on X and Y axis\n",
    "plt.show()"
   ]
  },
  {
   "cell_type": "code",
   "execution_count": null,
   "metadata": {},
   "outputs": [],
   "source": [
    "pp_err, max_err = compute_errors(soln_image, original_image)\n",
    "print(\"The average per-pixel error for iceberg is: \"+str(pp_err))\n",
    "print(\"The maximum per-pixel error for iceberg is: \"+str(max_err))"
   ]
  },
  {
   "cell_type": "code",
   "execution_count": null,
   "metadata": {},
   "outputs": [],
   "source": [
    "mosaic_img = read_image('tony.bmp')\n",
    "plt.imshow(mosaic_img, cmap = 'gray')\n",
    "plt.xticks([]), plt.yticks([])  # to hide tick values on X and Y axis\n",
    "plt.show()\n",
    "original_image = read_image('tony.jpg')\n",
    "plt.imshow(original_image[:,:,::-1])\n",
    "plt.xticks([]), plt.yticks([])  # to hide tick values on X and Y axis\n",
    "plt.show()\n",
    "# For sanity check display your solution image here\n",
    "### YOUR CODE\n",
    "soln_image = get_solution_image(mosaic_img)\n",
    "plt.imshow(soln_image)\n",
    "plt.xticks([]), plt.yticks([])  # to hide tick values on X and Y axis\n",
    "plt.show()"
   ]
  },
  {
   "cell_type": "code",
   "execution_count": null,
   "metadata": {},
   "outputs": [],
   "source": [
    "pp_err, max_err = compute_errors(soln_image, original_image)\n",
    "print(\"The average per-pixel error for tony is: \"+str(pp_err))\n",
    "print(\"The maximum per-pixel error for tony is: \"+str(max_err))"
   ]
  },
  {
   "cell_type": "code",
   "execution_count": null,
   "metadata": {},
   "outputs": [],
   "source": [
    "mosaic_img = read_image('hope.bmp')\n",
    "plt.imshow(mosaic_img, cmap = 'gray')\n",
    "plt.xticks([]), plt.yticks([])  # to hide tick values on X and Y axis\n",
    "plt.show()\n",
    "soln_image = get_solution_image(mosaic_img)\n",
    "# Generate your solution image here and show it \n",
    "soln_image = get_solution_image(mosaic_img)\n",
    "plt.imshow(soln_image)\n",
    "plt.xticks([]), plt.yticks([])  # to hide tick values on X and Y axis\n",
    "plt.show()"
   ]
  },
  {
   "cell_type": "code",
   "execution_count": null,
   "metadata": {},
   "outputs": [],
   "source": [
    "def get_freeman_solution_image(mosaic_img):\n",
    "    '''\n",
    "    This function should return the freeman soln image.\n",
    "    Feel free to write helper functions in the above cells\n",
    "    as well as change the parameters of this function.\n",
    "    \n",
    "    HINT : Use the above get_solution_image function.\n",
    "    '''\n",
    "    ### YOUR CODE HERE ###\n",
    "#     b = freeman_soln_image[:,:,0]\n",
    "#     g = freeman_soln_image[:,:,1]\n",
    "#     r = freeman_soln_image[:,:,2] \n",
    "#     temp_img = temp_img.astype(np.float64)\n",
    "#     b= temp_img.copy()\n",
    "#     b[::2,:] = 0\n",
    "#     b[:,::2] = 0\n",
    "# #     print(\"Blue:\\n\",b)\n",
    "#     G = temp_img.copy()\n",
    "#     G[::2,::2] = 0\n",
    "#     G[1::2,1::2] = 0\n",
    "# #     print(\"Green:\\n\",g)\n",
    "#     r = temp_img.copy()\n",
    "#     r[1::2,:] = 0\n",
    "#     r[:,1::2] = 0\n",
    "# #     print(\"Red:\\n\",r)\n",
    "    mosaic_shape = np.shape(mosaic_img)\n",
    "    freeman_soln_image = np.zeros((mosaic_shape[0], mosaic_shape[1], 3))\n",
    "    temp_image = get_solution_image(mosaic_img)\n",
    "    b = temp_image[:,:,0]\n",
    "    G = temp_image[:,:,1]\n",
    "    r = temp_image[:,:,2]    \n",
    "    from scipy.signal import medfilt2d\n",
    "    R = medfilt2d(r-G)+G\n",
    "    B = medfilt2d(b-G)+G\n",
    "    freeman_soln_image[:,:,0] = R\n",
    "    freeman_soln_image[:,:,1] = G\n",
    "    freeman_soln_image[:,:,2] = B\n",
    "    np.clip(freeman_soln_image, 0, 255)\n",
    "    freeman_soln_image = freeman_soln_image.astype(np.uint8)\n",
    "    return freeman_soln_image"
   ]
  },
  {
   "cell_type": "code",
   "execution_count": null,
   "metadata": {},
   "outputs": [],
   "source": [
    "mosaic_img = read_image('tony.bmp')\n",
    "plt.imshow(mosaic_img, cmap = 'gray')\n",
    "plt.xticks([]), plt.yticks([])  # to hide tick values on X and Y axis\n",
    "plt.show()\n",
    "original_image = read_image('tony.jpg')\n",
    "plt.imshow(original_image[:,:,::-1])\n",
    "plt.xticks([]), plt.yticks([])  # to hide tick values on X and Y axis\n",
    "plt.show()\n",
    "# For sanity check display your solution image here\n",
    "### YOUR CODE\n",
    "soln_image = get_freeman_solution_image(mosaic_img)\n",
    "plt.imshow(soln_image)\n",
    "plt.xticks([]), plt.yticks([])  # to hide tick values on X and Y axis\n",
    "plt.show()"
   ]
  },
  {
   "cell_type": "code",
   "execution_count": null,
   "metadata": {},
   "outputs": [],
   "source": [
    "pp_err, max_err = compute_errors(soln_image, original_image)\n",
    "print(\"The average per-pixel error for tony is: \"+str(pp_err))\n",
    "print(\"The maximum per-pixel error for tony is: \"+str(max_err))"
   ]
  },
  {
   "cell_type": "code",
   "execution_count": null,
   "metadata": {},
   "outputs": [],
   "source": [
    "### Feel free to play around with other images for Freeman's method above ###"
   ]
  },
  {
   "cell_type": "code",
   "execution_count": null,
   "metadata": {},
   "outputs": [],
   "source": [
    "mosaic_img = read_image('crayons.bmp')\n",
    "plt.imshow(mosaic_img, cmap = 'gray')\n",
    "plt.xticks([]), plt.yticks([])  # to hide tick values on X and Y axis\n",
    "plt.show()\n",
    "original_image = read_image('crayons.jpg')\n",
    "plt.imshow(original_image[:,:,::-1])\n",
    "plt.xticks([]), plt.yticks([])  # to hide tick values on X and Y axis\n",
    "plt.show()\n",
    "# For sanity check display your solution image here\n",
    "### YOUR CODE\n",
    "soln_image = get_freeman_solution_image(mosaic_img)\n",
    "plt.imshow(soln_image)\n",
    "plt.xticks([]), plt.yticks([])  # to hide tick values on X and Y axis\n",
    "plt.show()"
   ]
  },
  {
   "cell_type": "code",
   "execution_count": null,
   "metadata": {},
   "outputs": [],
   "source": [
    "pp_err, max_err = compute_errors(soln_image, original_image)\n",
    "print(\"The average per-pixel error for crayons is: \"+str(pp_err))\n",
    "print(\"The maximum per-pixel error for crayons is: \"+str(max_err))"
   ]
  },
  {
   "cell_type": "code",
   "execution_count": null,
   "metadata": {},
   "outputs": [],
   "source": [
    "mosaic_img = read_image('iceberg.bmp')\n",
    "plt.imshow(mosaic_img, cmap = 'gray')\n",
    "plt.xticks([]), plt.yticks([])  # to hide tick values on X and Y axis\n",
    "plt.show()\n",
    "original_image = read_image('iceberg.jpg')\n",
    "plt.imshow(original_image[:,:,::-1])\n",
    "plt.xticks([]), plt.yticks([])  # to hide tick values on X and Y axis\n",
    "plt.show()\n",
    "# For sanity check display your solution image here\n",
    "### YOUR CODE\n",
    "soln_image = get_freeman_solution_image(mosaic_img)\n",
    "plt.imshow(soln_image)\n",
    "plt.xticks([]), plt.yticks([])  # to hide tick values on X and Y axis\n",
    "plt.show()"
   ]
  },
  {
   "cell_type": "code",
   "execution_count": null,
   "metadata": {},
   "outputs": [],
   "source": [
    "pp_err, max_err = compute_errors(soln_image, original_image)\n",
    "print(\"The average per-pixel error for iceberg is: \"+str(pp_err))\n",
    "print(\"The maximum per-pixel error for iceberg is: \"+str(max_err))"
   ]
  },
  {
   "cell_type": "code",
   "execution_count": null,
   "metadata": {},
   "outputs": [],
   "source": [
    "mosaic_img = read_image('hope.bmp')\n",
    "soln_image = get_freeman_solution_image(mosaic_img)\n",
    "# Generate your solution image here and show it\n",
    "plt.imshow(soln_image)\n",
    "plt.xticks([]), plt.yticks([])  # to hide tick values on X and Y axis\n",
    "plt.show()"
   ]
  },
  {
   "cell_type": "code",
   "execution_count": null,
   "metadata": {},
   "outputs": [],
   "source": [
    "def get_mosaic_image(original_image):\n",
    "    '''\n",
    "    Generate the mosaic image using the Bayer Pattern.\n",
    "    '''\n",
    "#     green[::2,::2] = 0\n",
    "#     green[1::2,1::2] = 0\n",
    "#     red[1::2,:] = 0\n",
    "#     red[:,1::2] = 0\n",
    "#     original_image = original_image.convert(\"RGB\")\n",
    "#     print(original_shape)\n",
    "    original_image = np.array(original_image)\n",
    "    original_image = np.asarray(original_image, dtype=np.float64)\n",
    "    original_shape = np.shape(original_image)\n",
    "    mosaic_img = np.zeros((original_shape[0], original_shape[1]))\n",
    "    mosaic_img[::2,:] = original_image[::2,:,0]\n",
    "    mosaic_img[:,::2] = original_image[:,::2,0]\n",
    "    mosaic_img[::2,::2] = original_image[::2,::2,1]\n",
    "    mosaic_img[1::2,1::2] = original_image[1::2,1::2,1]\n",
    "    mosaic_img[1::2,:] = original_image[1::2,:,2]\n",
    "    mosaic_img[:,1::2] = original_image[:,1::2,2]\n",
    "    mosaic_img = mosaic_img.astype(np.uint8)\n",
    "    return mosaic_img"
   ]
  },
  {
   "cell_type": "code",
   "execution_count": null,
   "metadata": {},
   "outputs": [],
   "source": [
    "### YOUR CODE HERE ###\n",
    "original_image= read_image('palm_bear.jpg')\n",
    "plt.imshow(original_image[:,:,::-1])\n",
    "plt.xticks([]), plt.yticks([])  # to hide tick values on X and Y axis\n",
    "plt.show()\n",
    "mosaic_img = get_mosaic_image(original_image)\n",
    "plt.imshow(mosaic_img,cmap='gray')\n",
    "plt.xticks([]), plt.yticks([])  # to hide tick values on X and Y axis\n",
    "plt.show()\n",
    "\n",
    "# cv2.imwrite('palm_bear.bmp',mosaic_img)\n",
    "# mosaic_img = read_image('palm_bear.bmp')\n",
    "\n",
    "# For sanity check display your solution image here\n",
    "### YOUR CODE\n",
    "soln_image = get_freeman_solution_image(mosaic_img)\n",
    "plt.imshow(soln_image)\n",
    "plt.xticks([]), plt.yticks([])  # to hide tick values on X and Y axis\n",
    "plt.show()"
   ]
  },
  {
   "cell_type": "code",
   "execution_count": null,
   "metadata": {},
   "outputs": [],
   "source": [
    "pp_err, max_err = compute_errors(soln_image, original_image)\n",
    "print(\"The average per-pixel error for bear is: \"+str(pp_err))\n",
    "print(\"The maximum per-pixel error for bear is: \"+str(max_err))"
   ]
  },
  {
   "cell_type": "code",
   "execution_count": null,
   "metadata": {
    "scrolled": false
   },
   "outputs": [],
   "source": [
    "### YOUR CODE HERE ###\n",
    "### YOU ARE ON YOUR OWN :) ####\n",
    "original_image= read_image('wizard.png')\n",
    "plt.imshow(original_image[:,:,::-1])\n",
    "plt.xticks([]), plt.yticks([])  # to hide tick values on X and Y axis\n",
    "plt.show()\n",
    "mosaic_img = get_mosaic_image(original_image)\n",
    "plt.imshow(mosaic_img,cmap='gray')\n",
    "plt.xticks([]), plt.yticks([])  # to hide tick values on X and Y axis\n",
    "plt.show()\n",
    "# Generate your solution image here and show it\n",
    "soln_image = get_freeman_solution_image(mosaic_img)\n",
    "plt.imshow(soln_image)\n",
    "plt.xticks([]), plt.yticks([])  # to hide tick values on X and Y axis\n",
    "plt.show()"
   ]
  },
  {
   "cell_type": "code",
   "execution_count": null,
   "metadata": {},
   "outputs": [],
   "source": [
    "pp_err, max_err = compute_errors(soln_image, original_image)\n",
    "print(\"The average per-pixel error for wizard is: \"+str(pp_err))\n",
    "print(\"The maximum per-pixel error for wizard is: \"+str(max_err))"
   ]
  },
  {
   "cell_type": "code",
   "execution_count": null,
   "metadata": {},
   "outputs": [],
   "source": []
  },
  {
   "cell_type": "code",
   "execution_count": null,
   "metadata": {},
   "outputs": [],
   "source": []
  },
  {
   "cell_type": "code",
   "execution_count": null,
   "metadata": {},
   "outputs": [],
   "source": []
  },
  {
   "cell_type": "code",
   "execution_count": null,
   "metadata": {},
   "outputs": [],
   "source": []
  },
  {
   "cell_type": "code",
   "execution_count": null,
   "metadata": {},
   "outputs": [],
   "source": []
  }
 ],
 "metadata": {
  "kernelspec": {
   "display_name": "Python 3",
   "language": "python",
   "name": "python3"
  },
  "language_info": {
   "codemirror_mode": {
    "name": "ipython",
    "version": 3
   },
   "file_extension": ".py",
   "mimetype": "text/x-python",
   "name": "python",
   "nbconvert_exporter": "python",
   "pygments_lexer": "ipython3",
   "version": "3.7.1"
  }
 },
 "nbformat": 4,
 "nbformat_minor": 2
}
